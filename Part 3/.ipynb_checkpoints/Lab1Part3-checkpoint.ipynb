{
 "cells": [
  {
   "cell_type": "code",
   "execution_count": 9,
   "metadata": {},
   "outputs": [
    {
     "name": "stderr",
     "output_type": "stream",
     "text": [
      "Warning message in searchTwitter(\"#flu\", n = 2000, lang = \"en\", geocode = lookup_coords(\"usa\")):\n",
      "“NAs introduced by coercion”"
     ]
    },
    {
     "ename": "ERROR",
     "evalue": "Error in if ((lon > 180) || (lon < -180)) {: missing value where TRUE/FALSE needed\n",
     "output_type": "error",
     "traceback": [
      "Error in if ((lon > 180) || (lon < -180)) {: missing value where TRUE/FALSE needed\nTraceback:\n",
      "1. searchTwitter(\"#flu\", n = 2000, lang = \"en\", geocode = lookup_coords(\"usa\"))"
     ]
    }
   ],
   "source": [
    "library(twitteR)\n",
    "library(rtweet)\n",
    "library(httpuv)\n",
    "library(openssl)\n",
    "\n",
    "cred <- create_token(\n",
    "  app = \"DIC_Lab_1_Part_3\",\n",
    "    consumer_key <- \"QnGJeNmcLZjXsoEKwdOo01pzs\",\n",
    "    consumer_secret <- \"JBOwQlquFlLmUfij0SsaVXIBXz0SKnvRYOducZK05S1KJec5XS \",\n",
    "    access_token <- \"464870798-daIILBEnlXzMdz2A4I1Dpx05GWDL7zyWHfBWHZxp\",\n",
    "    access_token_secret <- \"KWbtVrU9LbkLyQbNTF34e42I5mXdwSk5A9kPD6v0s2Mjh\")\n",
    "\n",
    "tweets_geolocated <- searchTwitter(\"#flu\", n=2000, lang=\"en\", geocode=lookup_coords(\"usa\"))\n",
    "a=strip_retweets(tweets_geolocated)\n"
   ]
  },
  {
   "cell_type": "code",
   "execution_count": null,
   "metadata": {},
   "outputs": [],
   "source": []
  }
 ],
 "metadata": {
  "kernelspec": {
   "display_name": "R",
   "language": "R",
   "name": "ir"
  },
  "language_info": {
   "codemirror_mode": "r",
   "file_extension": ".r",
   "mimetype": "text/x-r-source",
   "name": "R",
   "pygments_lexer": "r",
   "version": "3.5.1"
  }
 },
 "nbformat": 4,
 "nbformat_minor": 2
}
